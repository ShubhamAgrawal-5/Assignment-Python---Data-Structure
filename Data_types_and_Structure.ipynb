{
  "nbformat": 4,
  "nbformat_minor": 0,
  "metadata": {
    "colab": {
      "provenance": []
    },
    "kernelspec": {
      "name": "python3",
      "display_name": "Python 3"
    },
    "language_info": {
      "name": "python"
    }
  },
  "cells": [
    {
      "cell_type": "markdown",
      "source": [
        "**Question1.  What are data structures and why are they important?**"
      ],
      "metadata": {
        "id": "2y5ve_y7y0nQ"
      }
    },
    {
      "cell_type": "markdown",
      "source": [
        "**Answer**. Data structures are specialized formats for organizing, storing, and accessing collections of data. They provide efficient ways to manage information based on its characteristics and intended use. Think of them as containers that hold your data and determine how you can interact with it. Different containers are better suited for different types of items.\n",
        "Data structures are the foundation of efficient programs. Choosing the right data structure significantly impacts the efficiency and performance of your program. They play a crucial role in:\n",
        "1.\t**Performance**: Choosing the right data structure significantly impacts how quickly your program can access and process information. For example, searching an unsorted list takes much longer than searching a sorted array.\n",
        "2.\t**Memory Management**: Data structures help optimize memory usage, preventing wasted space and improving program efficiency.\n",
        "3.\t**Code Reusability**: Well-defined data structures can be reused across different parts of your program or even other programs, saving development time and promoting consistency.\n"
      ],
      "metadata": {
        "id": "yC-g2Zn_y34H"
      }
    },
    {
      "cell_type": "markdown",
      "source": [
        "**Question2. Explain the difference between mutable and immutable data types with example.**"
      ],
      "metadata": {
        "id": "Jwz8chZ6zNQn"
      }
    },
    {
      "cell_type": "markdown",
      "source": [
        "Answer. A mutable object in Python is something that can be changed after it is created. This means you can modify, add, or remove elements within the object without creating a new object. Lists, dictionaries, and sets are examples of mutable objects.\n",
        "#Examples 1: List\n",
        "A list is a collection of items that can be changed after it is created. You can add, remove, or modify elements in a list.\n"
      ],
      "metadata": {
        "id": "fG3PHGM30FHy"
      }
    },
    {
      "cell_type": "code",
      "source": [
        "first = [1, 2, 3] #Creation of a List\n",
        "# Modifying the list\n",
        "first.append(4)    # Adding an element in the List\n",
        "first[0] = 10       # Changing an element in the List\n",
        "print(first)\n"
      ],
      "metadata": {
        "colab": {
          "base_uri": "https://localhost:8080/"
        },
        "id": "R6zJ18Xazrb4",
        "outputId": "13529a76-bfa2-4d3b-9d3a-9080a8b5715b"
      },
      "execution_count": null,
      "outputs": [
        {
          "output_type": "stream",
          "name": "stdout",
          "text": [
            "[10, 2, 3, 4]\n"
          ]
        }
      ]
    },
    {
      "cell_type": "markdown",
      "source": [
        "#Examples 2: Set\n",
        "A set is an unordered collection of unique elements. You can add or remove elements in a set.\n"
      ],
      "metadata": {
        "id": "JGU4jFwVzV_x"
      }
    },
    {
      "cell_type": "code",
      "source": [
        "first = {1, 2, 3} # Creation of  a set\n",
        "# Modifying the set\n",
        "first.add(4)        # Adding an element in set\n",
        "first.remove(2)  # Removing an element in set\n",
        "print(first)\n"
      ],
      "metadata": {
        "colab": {
          "base_uri": "https://localhost:8080/"
        },
        "id": "E2BGX8rk2Th0",
        "outputId": "3dc20ba6-aa7d-4cff-976b-5493ec864a39"
      },
      "execution_count": null,
      "outputs": [
        {
          "output_type": "stream",
          "name": "stdout",
          "text": [
            "{1, 3, 4}\n"
          ]
        }
      ]
    },
    {
      "cell_type": "markdown",
      "source": [
        "#Examples 3: Dictionary\n",
        "A dictionary is a collection of key-value pairs. You can add, remove, or modify key-value pairs in a dictionary.\n"
      ],
      "metadata": {
        "id": "dU_HTR9E2VmZ"
      }
    },
    {
      "cell_type": "code",
      "source": [
        "first = {'a': 1, 'b': 2}# Creation of  a dictionary\n",
        "# Modifying the dictionary\n",
        "first['c'] = 3       # Adding a new key-value pair in dictionary\n",
        "first['a'] = 10     # Changing the value of an existing key in the  dictionary\n",
        "del first['b']       # Removing a key-value pair in the dictionary\n",
        "print(first)\n"
      ],
      "metadata": {
        "colab": {
          "base_uri": "https://localhost:8080/"
        },
        "id": "J5f452Zl2d7q",
        "outputId": "29b6e9e2-ebc9-492c-9c6e-acc4eccfcffe"
      },
      "execution_count": null,
      "outputs": [
        {
          "output_type": "stream",
          "name": "stdout",
          "text": [
            "{'a': 10, 'c': 3}\n"
          ]
        }
      ]
    },
    {
      "cell_type": "markdown",
      "source": [
        "An immutable object in Python is one that cannot be changed once it is created. This means that after you create an immutable object, its content or state remains constant. Common examples of immutable objects are numbers, strings, and tuples."
      ],
      "metadata": {
        "id": "6ER9SOFb2u-d"
      }
    },
    {
      "cell_type": "markdown",
      "source": [
        "#Example 1: Numbers\n",
        "Numbers, such as integers and floats, are immutable. Once a number is created, it cannot be changed.\n"
      ],
      "metadata": {
        "id": "00GB0n8G2w9S"
      }
    },
    {
      "cell_type": "code",
      "source": [
        "first = 5   # Creating a number\n",
        "first = first + 1  # Changing the number creates a new object\n",
        "print(first)\n"
      ],
      "metadata": {
        "colab": {
          "base_uri": "https://localhost:8080/"
        },
        "id": "0t3kCAuu2qCF",
        "outputId": "ac99b5f6-d14f-4831-ee5a-809e6945fd07"
      },
      "execution_count": null,
      "outputs": [
        {
          "output_type": "stream",
          "name": "stdout",
          "text": [
            "6\n"
          ]
        }
      ]
    },
    {
      "cell_type": "markdown",
      "source": [
        "#Example 2: Strings\n",
        "Strings are sequences of characters and are immutable. Any modification to a string creates a new string.\n"
      ],
      "metadata": {
        "id": "4mUJuAhA3BA8"
      }
    },
    {
      "cell_type": "code",
      "source": [
        "first = \"Hello\"    # Creation of a string\n",
        "second = first + \" World\" # Changing the string creates a new object\n",
        "print(second)\n",
        "print(first)\n"
      ],
      "metadata": {
        "colab": {
          "base_uri": "https://localhost:8080/"
        },
        "id": "PNyOSBuu3Gqd",
        "outputId": "1a432fb5-de5d-449d-f490-f6fa1a9932a1"
      },
      "execution_count": null,
      "outputs": [
        {
          "output_type": "stream",
          "name": "stdout",
          "text": [
            "Hello World\n",
            "Hello\n"
          ]
        }
      ]
    },
    {
      "cell_type": "markdown",
      "source": [
        "#Example 3: Tuples\n",
        "Tuples are ordered collections of elements and are immutable. Once a tuple is created, its elements cannot be changed.It will throw an error.\n"
      ],
      "metadata": {
        "id": "YGtOp5453N95"
      }
    },
    {
      "cell_type": "code",
      "source": [
        "first = (1, 2, 3) # Creation of  a tuple\n",
        "first[0] = 10      #this line will raise a Type Error\n",
        "print(first)\n"
      ],
      "metadata": {
        "colab": {
          "base_uri": "https://localhost:8080/",
          "height": 183
        },
        "id": "vCuUtPLK3Kl7",
        "outputId": "e0095902-6631-4d41-f7fd-9832325f3d88"
      },
      "execution_count": null,
      "outputs": [
        {
          "output_type": "error",
          "ename": "TypeError",
          "evalue": "'tuple' object does not support item assignment",
          "traceback": [
            "\u001b[0;31m---------------------------------------------------------------------------\u001b[0m",
            "\u001b[0;31mTypeError\u001b[0m                                 Traceback (most recent call last)",
            "\u001b[0;32m<ipython-input-10-79b3ff0d9b86>\u001b[0m in \u001b[0;36m<cell line: 0>\u001b[0;34m()\u001b[0m\n\u001b[1;32m      1\u001b[0m \u001b[0mfirst\u001b[0m \u001b[0;34m=\u001b[0m \u001b[0;34m(\u001b[0m\u001b[0;36m1\u001b[0m\u001b[0;34m,\u001b[0m \u001b[0;36m2\u001b[0m\u001b[0;34m,\u001b[0m \u001b[0;36m3\u001b[0m\u001b[0;34m)\u001b[0m \u001b[0;31m# Creation of  a tuple\u001b[0m\u001b[0;34m\u001b[0m\u001b[0;34m\u001b[0m\u001b[0m\n\u001b[0;32m----> 2\u001b[0;31m \u001b[0mfirst\u001b[0m\u001b[0;34m[\u001b[0m\u001b[0;36m0\u001b[0m\u001b[0;34m]\u001b[0m \u001b[0;34m=\u001b[0m \u001b[0;36m10\u001b[0m      \u001b[0;31m#this line will raise a Type Error\u001b[0m\u001b[0;34m\u001b[0m\u001b[0;34m\u001b[0m\u001b[0m\n\u001b[0m\u001b[1;32m      3\u001b[0m \u001b[0mprint\u001b[0m\u001b[0;34m(\u001b[0m\u001b[0mfirst\u001b[0m\u001b[0;34m)\u001b[0m\u001b[0;34m\u001b[0m\u001b[0;34m\u001b[0m\u001b[0m\n",
            "\u001b[0;31mTypeError\u001b[0m: 'tuple' object does not support item assignment"
          ]
        }
      ]
    },
    {
      "cell_type": "markdown",
      "source": [
        "#Difference Between Mutable and Immutable Objects in Python"
      ],
      "metadata": {
        "id": "5hf3Mp_AMNKn"
      }
    },
    {
      "cell_type": "markdown",
      "source": [
        "**Mutable Objects**\n",
        "\n",
        "1.   Definition:Can be modified after they are created\n",
        "\n",
        "2.   Modification Behaviour: Changes affect the original object directly\n",
        "\n",
        "3.   Variable References: Multiple variables can refer to the same mutable\n",
        "     object, leading to unexpected changes.\n",
        "\n",
        "4.   Use Cases: Ideal for dynamic data structures needing frequent updates,     \n",
        "     like lists or dictionaries.\n",
        "          \n",
        "5.   Performance: Modifying a mutable object can be quicker and use less memory\n",
        "     than creating a new object, especially for large data structures\n",
        "\n",
        "**Immutable Objects**\n",
        "\n",
        "1.  Definition:Cannot be modified after they are created\n",
        "\n",
        "2.  Modification Behaviour:\tAny change creates a new object with the modified   \n",
        "     value\n",
        "\n",
        "3.  Variable References:Immutable objects are thread-safe and can be shared\n",
        "     between threads without the risk of unexpected changes\n",
        "\n",
        "4.  Use Cases:Suitable as dictionary keys or set elements since their values  \n",
        "     remain constant and always have the same hash value\n",
        "\n",
        "5.  Performance:Often used for constants or values that should not change, like\n",
        "     numeric values or strings used for formatting messages\n"
      ],
      "metadata": {
        "id": "fCJEIjp6MRcd"
      }
    },
    {
      "cell_type": "markdown",
      "source": [
        "**Question3.  What are the main differences between lists and tuples in python?**\n"
      ],
      "metadata": {
        "id": "wcvGqolhO5CZ"
      }
    },
    {
      "cell_type": "markdown",
      "source": [
        "**Answer**. In Python, List and Tuples are built-in data structures for storing and managing the collections of data. A list is like a flexible notebook where you can add, remove, or rearrange items. On the other hand, a tuple is like a sealed envelope — once packed, its contents remain unchanged.\n"
      ],
      "metadata": {
        "id": "RPibHUS6O-0k"
      }
    },
    {
      "cell_type": "markdown",
      "source": [
        "# Difference Between List and Tuple in Python"
      ],
      "metadata": {
        "id": "OV06yzqsPCKG"
      }
    },
    {
      "cell_type": "markdown",
      "source": [
        "**List**\n",
        "\n",
        "1.  Definition:A list is an ordered, mutable collection of items.\n",
        "\n",
        "2.  Syntax:\tDefined using square brackets [ ].\n",
        "\n",
        "3.  Mutability:List is mutable means Elements can be added, removed, or   \n",
        "    modified.\n",
        "\n",
        "4.  Performance: Slower due to dynamic resizing and mutability.\n",
        "\n",
        "5.  Memory Usage:\tConsumes more memory as it supports additional  \n",
        "    functionalities like append or pop.\n",
        "\n",
        "6.  Methods Available: Provides methods like append(), remove(), sort(), etc.\n",
        "\n",
        "7.  Use Case:\tSuitable for dynamic collections where data changes frequently.\n",
        "\n",
        "8.  Iteration Speed: Slower than tuples during iteration.\n",
        "\n",
        "9.  Error Safety:\tMore prone to accidental changes or bugs.\n",
        "\n",
        "10. Nesting Capability:Can nest lists, tuples, or other collections.\n",
        "\n",
        "11. Type Conversion: A list can be converted to a tuple using tuple().\n",
        "\n",
        "**Tuple**\n",
        "\n",
        "1.  Definition:A tuple is an ordered, immutable collection of items.\n",
        "\n",
        "2.  Syntax:Defined using parentheses ( ).\n",
        "\n",
        "3.  Mutability:Tuple is immutable means elements cannot be changed once the     \n",
        "    tuple is created.\n",
        "\n",
        "4.  Performance: Faster due to immutability and smaller memory footprint.\n",
        "\n",
        "5.  Memory Usage:Consumes less memory as it has fewer functionalities.\n",
        "\n",
        "6.  Methods Available: Limited methods like count() and index().\n",
        "\n",
        "7.  Use Case:\tIdeal for fixed data that does not require modification.\n",
        "\n",
        "8.  Iteration Speed: Faster due to immutability and reduced overhead.\n",
        "\n",
        "9.  Error Safety: Safer as the data remains constant throughout the program.\n",
        "\n",
        "10. Nesting Capability: Can also nest tuples or other collections.\n",
        "\n",
        "11. Type Conversion: A tuple can be converted to a list using list()."
      ],
      "metadata": {
        "id": "iiqwh5OJPE6t"
      }
    },
    {
      "cell_type": "markdown",
      "source": [
        "**Question4. Describes how dictionaries stores data.**"
      ],
      "metadata": {
        "id": "1Xhp4TYrSbBW"
      }
    },
    {
      "cell_type": "markdown",
      "source": [
        "#####**Answer**. A Python dictionary is a data structure that stores the value in key: value pairs. Values in a dictionary can be of any data type and can be duplicated, whereas keys can’t be repeated and must be immutable. Dictionaries are unordered, but from Python 3.7 version, dictionaries retain the order of insertion. This means if you iterate over a dictionary, the items will be returned in the ordered they were added.\n",
        "#####Dictionaries stores data in the key : value pair and key should be a String, Integer, float, Boolean Value and Tuple but not be a special character, List, Set and also a dictionary are not used as a key of dictionary.\n",
        "#####The keys of a dictionary have a couple of restrictions. They need to be:\n",
        "    1.  Hashable: This means that you can’t use unhashable objects like\n",
        "    lists as dictionary keys.\n",
        "\n",
        "    2.  Unique: This means that your dictionaries won’t have duplicate keys.\n",
        "#####Dictionaries are created using curly braces {}. The key is on the left side of the colon (:) and the value is on the right. A comma separates each key-value pair. In Python, dictionaries are accessed by key, not by index. This means you can't access a dictionary element by using its position in the dictionary. Instead, you must use the dictionary key.\n",
        "#####There are two ways to access a dictionary element in Python. The first is by using the get() method. This method takes two arguments: the dictionary key and a default value. If the key is in the dictionary, the get() method will return the value associated with that key. The get() method will return the default value if the key is not in the dictionary.\n",
        "#####The second way to access a dictionary element is using the [] operator. This operator takes the dictionary key as an argument and returns the value associated with the key value. If the key value is not in the dictionary, the [] operator will raise a Key Error.\n"
      ],
      "metadata": {
        "id": "r4LRlqZuSfGc"
      }
    },
    {
      "cell_type": "markdown",
      "source": [
        "**Question5. Why might you use a set instead of a list in Python?**"
      ],
      "metadata": {
        "id": "5PFI4PpSULGq"
      }
    },
    {
      "cell_type": "markdown",
      "source": [
        "#####**Answer**. In Python, set and list are both data structures for storing and organizing any values. Those values could be numbers, strings, and Boolean.\n",
        "#####A set is a collection of unordered and unique values. The values in a set are unique because there cannot be any duplicates. The items in a set are also immutable – you can't change them. But you can still add and remove from the collection.\n",
        "Sets and lists are built-in data structures you can use to store and arrange values in Python. We might choose to use a Set instead of List in Python when:-\n",
        "\n",
        "\t\t\t\t\t\t\t1. Order doesn’t matter\n",
        "\t\t\t\t\t\t\t2. Duplicates are irrelevant\n",
        "\t\t\t\t\t\t\t3. Processing speed matters\n",
        "1.\tOrder doesn’t matter : Unlike lists, sets do not store ordered data. Lists have indexed and accessible data, meaning each element is retrievable. There is no way to access an individual item in a set because they are not given an index.\n",
        "However, not all data needs to be indexed. For example, membership testing. Testing whether or not an item belongs to a group does not require the group to be indexed because it’s only returning a True or False statement.\n",
        "\n",
        "2.\tDuplicates are irrelevant: By definition, sets cannot contain duplicates. This makes sets the ideal container for storing unique items. In fact, this attribute makes the set data type a popular method of removing duplicates from a container.\n",
        "\n",
        "3.\tProcessing speed matters: Since sets do not store indexed data or duplicates, they use less memory than lists and are less computationally expensive. As a result, sets take less time to search through.\n",
        "As you can see, in many cases, sets offer advantages over lists.\n"
      ],
      "metadata": {
        "id": "MCRutIy6UPcn"
      }
    },
    {
      "cell_type": "markdown",
      "source": [
        "**Question6. What is a string in Python, and how it is different from a list?**\n"
      ],
      "metadata": {
        "id": "-TVpjGgoVq-2"
      }
    },
    {
      "cell_type": "markdown",
      "source": [
        "#####**Answer**. Python string is a data type used to represent a sequence of characters. These characters can include letters, numbers, symbols, and whitespace. In Python, strings are immutable, meaning that once a string is created, its content cannot be changed. This immutability feature ensures that strings are consistent and secure throughout the program execution.\n",
        "#####Strings in Python are enclosed within either single quotes (' '), double quotes (\" \"), or triple quotes (''' ''' or \"\"\" \"\"\"). Each type of quote can be used interchangeably, allowing flexibility in how strings are defined, particularly when a string itself contains quotes.\n",
        "Strings in Python are sequences of characters, so we can access individual characters using indexing. Strings are indexed starting from 0 and -1 from end. This allows us to retrieve specific characters from the string.\n",
        "Difference between String and List in Python\n",
        "1.\tStrings in Python are sequences of characters enclosed in quotes ('' or “”). Lists are ordered collections of items enclosed in square brackets [].\n",
        "2.\tStrings are immutable, meaning they cannot be changed once created, while lists are mutable and can be modified as needed.\n",
        "3.\tOperations like concatenation (+) and repetition (*) work differently for strings and lists. Concatenating strings will merge them together, while concatenating lists will combine their elements.\n",
        "4.\tString methods like upper(), lower(), and replace() are tailored for text processing, while list methods like append(), remove(), and sort(), and copy() are specific to working with collections of items.\n",
        "5.\tStrings can be indexed and sliced to access individual characters or substrings, while lists can be accessed using indices to retrieve or modify elements.\n",
        "6.\tStrings have a fixed length, while lists can dynamically grow or shrink in size by adding or removing elements.\n",
        "7.\tList comprehension is a powerful feature in Python for creating lists based on existing iterables, while there is no direct equivalent for strings.\n",
        "8.\tStrings are useful for representing textual data, while lists are versatile data structures that can store different types of elements.\n",
        "9.\tString formatting allows for creating formatted output using placeholders, while lists can be formatted directly by converting them to strings.\n",
        "10.\tBoth strings and lists are iterable objects in Python, allowing for easy iteration over their elements using loops or comprehension techniques."
      ],
      "metadata": {
        "id": "gbXLgb7oWCDJ"
      }
    },
    {
      "cell_type": "markdown",
      "source": [
        "**Question7. How do tuples ensure data integrity in Python?**"
      ],
      "metadata": {
        "id": "tuV4EYqyWt6o"
      }
    },
    {
      "cell_type": "markdown",
      "source": [
        "#####**Answer**. Tuples are a type of data structure in Python that are used to store a collection of items. Tuples are a type of data structure that allows you to store multiple values in a single variable. Tuples are similar to lists in Python but are not same totally. Tuples can store elements of different data types like strings, integers, float, and others. Tuples are immutable, which means they cannot be modified once they are created.\n",
        "#####Tuples are commonly used when you want to group related pieces of information together. They ensure that the group of information stays unchanged throughout your program.\n",
        "#####Tuples are faster than Lists in Python in execution and are used based on its requirements where we need immutable and fast execution. The immutability of tuple ensures data integrity.\n",
        "Tuples are immutable to ensure that their contents remain constant throughout their lifecycle, guaranteeing data integrity and reliability. This immutability allows tuples to be used as keys in dictionaries and elements in sets, as they can be hashed. Additionally, immutability can lead to performance optimizations, as Python can store and access tuples more efficiently than mutable data structures like lists.\n"
      ],
      "metadata": {
        "id": "E6bVdXvEWwkA"
      }
    },
    {
      "cell_type": "markdown",
      "source": [
        "**Question8. What is hash table, and how does it relate to dictionaries in Python?**"
      ],
      "metadata": {
        "id": "vuu-mLUoXDpL"
      }
    },
    {
      "cell_type": "markdown",
      "source": [
        "#####**Answer**. A hash table is a data structure that uses a hash function to map keys to values, enabling efficient storage and retrieval of data. It basically makes use of a function that computes an index value that in turn holds the elements to be searched, inserted, removed, etc. This makes it easy and fast to access data. In general, hash tables store key-value pairs and the key is generated using a hash function.\n",
        "#####Hash tables or has maps in Python are implemented through the built-in dictionary data type. The keys of a dictionary in Python are generated by a hashing function. It uses a hash function to calculate an index (or \"bucket\") where a specific key-value pair should be stored.\n",
        "Hash table is relate to dictionaries in Python as:-\n",
        "1.  Python dictionaries are implemented using hash tables under the hood.\n",
        "2.  When you create a dictionary in Python, you are essentially creating a hash table.\n",
        "3.  The keys in a dictionary are used as input to the hash function, which determines the location of the corresponding value within the hash table.\n",
        "4.  This allows dictionaries to offer efficient access to data based on keys.\n"
      ],
      "metadata": {
        "id": "3qvxuMTXXKhy"
      }
    },
    {
      "cell_type": "markdown",
      "source": [
        "**Question9. Can list contain different data types in Python?**"
      ],
      "metadata": {
        "id": "pXY_jAofXcuz"
      }
    },
    {
      "cell_type": "markdown",
      "source": [
        "#####**Answer**.  Yes, list contains different data types in Python.  The list class is a fundamental built-in data type in Python. It has an impressive and useful set of features, allowing you to efficiently organize and manipulate heterogeneous data.\n",
        "#####Lists can contain objects of different types. That’s why lists are heterogeneous collections:\n",
        "######This list contains objects of different data types, including an integer number, string, Boolean value, dictionary, tuple, and another list.\n",
        "#####Lists can store any type of object. They can also be empty list which are useful in many situations.\n",
        "All Python lists include the following features or characteristics:\n",
        "1.  Lists can contain items of different types at the same time (including strings, integers, floating point numbers and boolean values).\n",
        "2.  Lists are mutable and dynamic; list items can be added, removed or changed after the list is defined.\n",
        "3.  Lists are ordered; newly added items will be placed at the end of the list.\n",
        "4.  Lists use zero-based indexing; every list item has an associated index, and the first item’s index is 0.\n",
        "5.  Duplicated list items are allowed.\n",
        "6.  Lists can be nested within other lists indefinitely.\n"
      ],
      "metadata": {
        "id": "11r00hP_XfXK"
      }
    },
    {
      "cell_type": "markdown",
      "source": [
        "**Question10. Explain why strings are immutable in Python?**"
      ],
      "metadata": {
        "id": "E2llRrmmX4c-"
      }
    },
    {
      "cell_type": "markdown",
      "source": [
        "#####**Answer**. Strings in Python are “immutable” which means they cannot be changed after they are created. Some other immutable data types are integers, float, boolean, etc.\n",
        "#####Immutability is the property of an object according to which we cannot change the object after we declared or after the creation of it and this Immutability in the case of the string is known as string immutability in Python.\n",
        "The immutability of Python string is very useful as it helps in hashing, performance optimization, safety, ease of use, etc.\n",
        "Strings are immutable in Python because there are some benefits of having an immutable string. They are:\n",
        "1.\tHashability and Dictionary Keys: Immutable objects can be used as keys in dictionaries because their hash value remains constant, ensuring that the key-value mapping is consistent.\n",
        "2.\tMemory Efficiency: Since immutable objects cannot change their value, Python can optimize memory usage. Reusing the same immutable object across the program whenever possible reduces memory overhead.\n",
        "3.\tThread Safety: Immutability provides inherent thread safety. When multiple threads access the same immutable object, there’s no risk of data corruption due to concurrent modifications.\n",
        "4.\tPredictability and Debugging: With immutability, you can be confident that a given object’s value will not change unexpectedly, leading to more predictable and easier-to-debug code.\n",
        "5.\tPerformance Optimization: Immutable objects facilitate certain performance optimizations, such as caching hash values for quick dictionary lookups.\n"
      ],
      "metadata": {
        "id": "s_QsInhMX8ud"
      }
    },
    {
      "cell_type": "markdown",
      "source": [
        "**Question11. What advantages do dictionaries offer over list for certain tasks?**"
      ],
      "metadata": {
        "id": "wHxvycWQYEyU"
      }
    },
    {
      "cell_type": "markdown",
      "source": [
        "Answer. Dictionaries in Python offer several advantages over lists for certain tasks, primarily due to their unique structure and behavior. Here are some key advantages:\n",
        "1.\tKey-Value Pair Storage\n",
        "    *\tDictionaries: They store data as key-value pairs, which makes it easier to associate a unique key with a value. This is especially useful when you need to represent relationships between data elements (e.g., a person’s name and their age).\n",
        "\n",
        "    * Lists: They store only sequential data, making it harder to represent relationships without using index positions or nested structures.\n",
        "* Use case: If you need to map user IDs to user information (like username to email), a dictionary allows you to do this easily.\n",
        "2.\tEfficient Updates and Deletions by Key:\n",
        "  *\tDictionaries: Adding, updating, or removing elements is efficient when using keys. Since dictionaries are implemented as hash tables, these operations generally take constant time (O(1)).\n",
        "  * Lists: In lists, updating or removing elements by value can be slower, as you often need to find the element first, which takes O(n) time.\n",
        "* Use case: If you're tracking inventory in a store and want to update the stock count by product ID, using a dictionary allows you to quickly update the count for a specific product.\n",
        "3.\tUnique Keys :\n",
        "  *\tDictionaries: Keys in a dictionary must be unique. If you try to insert a duplicate key, it will simply update the value associated with that key.\n",
        "  * Lists: Lists do not have a concept of uniqueness in terms of the positions or values, and you can have duplicates freely.\n",
        "* Use case: When you need to ensure that each key corresponds to a unique value (e.g., storing email addresses in a system where no two users can have the same email), dictionaries provide a more straightforward way of handling this.\n",
        "4.\tFlexibility in Key Types:\n",
        "  * Dictionaries: Keys in dictionaries can be of any immutable type (e.g., strings, numbers, tuples). This offers flexibility when you need to use non-sequential, unique identifiers.\n",
        "  * Lists: Lists require integer indices for accessing elements (though you can use slices), which makes it less flexible for non-sequential access.\n",
        "* Use case: If you want to index data by complex objects like tuples or strings (e.g., mapping coordinates to data points), dictionaries provide the necessary flexibility.\n",
        "5.\tReadable Code:\n",
        "  *\tDictionaries: Accessing and working with key-value pairs in dictionaries often leads to more self-explanatory and readable code because the keys give meaning to the data.\n",
        "  *\tLists: Lists, on the other hand, are just sequences, and understanding what data is stored at each index can be less intuitive\n",
        "*  Use case: When working with configuration data, using a dictionary allows you to access values via descriptive keys rather than relying on numeric indices."
      ],
      "metadata": {
        "id": "ge3VzXJ3YHCx"
      }
    },
    {
      "cell_type": "markdown",
      "source": [
        "**Question12. Describe a scenario where using a tuple would be preferable over a list.**"
      ],
      "metadata": {
        "id": "xlRjtdi4bgf7"
      }
    },
    {
      "cell_type": "markdown",
      "source": [
        "#####**Answer**. A tuple is preferable over a list in scenarios where immutability, data integrity, or performance is important. Here’s a specific scenario where a tuple would be more suitable than a list:\n",
        "Scenario: Storing Coordinates in a 2D Space\n",
        "Imagine you are working on a geographical mapping system where you need to represent locations on a map using coordinates (e.g., latitude and longitude). Each coordinate pair is a fixed combination of two values, and once created, these coordinates should not be modified.\n",
        "Why Use a Tuple?\n",
        "1.\tImmutability (Data Integrity):\n",
        "•\tThe coordinate values (latitude, longitude) should not change once they are set. Using a tuple ensures that the data remains immutable, meaning that once a coordinate is created, it cannot be altered by mistake, ensuring data integrity.\n",
        "•\tIf you use a list, the coordinate values could be changed accidentally, which could lead to errors in your system\n",
        "2.\tPerformance:\n",
        "•\tTuples are more memory efficient and faster than lists, especially when you're dealing with a large number of fixed-size, unchanging collections. This can lead to performance improvements in large-scale applications like mapping systems or simulations.\n",
        "\n",
        "\n",
        "3.\tHashability:\n",
        "•\tSince tuples are immutable, they can be used as keys in a dictionary or stored in a set. For example, if you want to track unique coordinates or map coordinates to some value, you could use tuples as keys in a dictionary.\n",
        "######A tuple is ideal when you want to store a collection of fixed, unchanging values that should not be modified, like geographical coordinates. It ensures data integrity, improves performance, and provides clear semantic meaning for fixed collections of items.\n"
      ],
      "metadata": {
        "id": "Qj8gL0IMbl7a"
      }
    },
    {
      "cell_type": "markdown",
      "source": [
        "**Question13. How do set handle duplicate values in Python?**"
      ],
      "metadata": {
        "id": "Ab7pOkJ9b1Ry"
      }
    },
    {
      "cell_type": "markdown",
      "source": [
        "#####**Answer**. In Python, sets are collections that do not allow duplicate values. When you attempt to add a duplicate element to a set, the set will ignore the addition and maintain only unique elements. This property makes sets particularly useful for handling situations where you need to store a collection of items but don’t want any duplicates.\n",
        "For Example:"
      ],
      "metadata": {
        "id": "I_PB5fhwb50h"
      }
    },
    {
      "cell_type": "code",
      "source": [
        "my_set = {1, 2, 3}\n",
        "my_set.add(2)  # Duplicate value, won't be added\n",
        "print(my_set)"
      ],
      "metadata": {
        "id": "ByKRU43B3TLv",
        "colab": {
          "base_uri": "https://localhost:8080/"
        },
        "outputId": "a30b3bbb-b791-43ce-d279-817d1339ed5d"
      },
      "execution_count": null,
      "outputs": [
        {
          "output_type": "stream",
          "name": "stdout",
          "text": [
            "{1, 2, 3}\n"
          ]
        }
      ]
    },
    {
      "cell_type": "code",
      "source": [
        "my_set.add(4)  # New value, will be added\n",
        "print(my_set)"
      ],
      "metadata": {
        "colab": {
          "base_uri": "https://localhost:8080/"
        },
        "id": "m1MuDF9DcP77",
        "outputId": "3074d800-395e-4526-e11e-37015b347fc7"
      },
      "execution_count": null,
      "outputs": [
        {
          "output_type": "stream",
          "name": "stdout",
          "text": [
            "{1, 2, 3, 4}\n"
          ]
        }
      ]
    },
    {
      "cell_type": "markdown",
      "source": [
        "Sets in Python handle duplicates by automatically removing them and maintaining only unique values. If duplicates are added, they are ignored, making sets ideal for situations where uniqueness is required."
      ],
      "metadata": {
        "id": "1eJNtzUAcnHk"
      }
    },
    {
      "cell_type": "markdown",
      "source": [
        "**Question14. How does the \"in\" keyword work differently for lists and dictionaries?**"
      ],
      "metadata": {
        "id": "Fa7jnuK1cqXJ"
      }
    },
    {
      "cell_type": "markdown",
      "source": [
        "#####**Answer**. The \"in\" keyword in Python is a powerful operator used for membership testing and iteration. It helps determine whether an element exists within a given sequence or not. However, the way it works differs between lists and dictionaries because of their different structures and data access mechanisms.\n",
        "1.\tUsing in with Lists:\n",
        "\tWhen you use the \"in\" keyword with a list, it checks whether the element exists in \tthe list. It searches through the list for that exact value. The \"in\" operator tests for \tvalue equality. It returns True if the values are equal, even if their types are \tdifferent.\n",
        "#####For Example\n",
        "\n"
      ],
      "metadata": {
        "id": "2uMjTsG_cumJ"
      }
    },
    {
      "cell_type": "code",
      "source": [
        "grocery_list = [\"Milk\", \"Orange\", 1, 2.2, True, 3+5j]\n",
        "\"Milk\" in grocery_list  # use of \"in\" keyword to check whether Milk is present in grocery_list or not\n"
      ],
      "metadata": {
        "colab": {
          "base_uri": "https://localhost:8080/"
        },
        "id": "YSxV37rMcgrU",
        "outputId": "64662220-a302-460d-d712-f0ce1ae21c09"
      },
      "execution_count": null,
      "outputs": [
        {
          "output_type": "execute_result",
          "data": {
            "text/plain": [
              "True"
            ]
          },
          "metadata": {},
          "execution_count": 6
        }
      ]
    },
    {
      "cell_type": "markdown",
      "source": [
        "2.  When you use the in keyword with a dictionary, it checks if the key exists in the dictionary. By default, in checks for the presence of the key in the dictionary, not the value.\n",
        "* For Example"
      ],
      "metadata": {
        "id": "SRnLtFbmdFxo"
      }
    },
    {
      "cell_type": "code",
      "source": [
        "my_dict = {\"name\": \"Shubham\", \"age\": 32, \"city\": \"Mathura\"}\n",
        "print(\"age\" in my_dict)\n"
      ],
      "metadata": {
        "colab": {
          "base_uri": "https://localhost:8080/"
        },
        "id": "cwZg3mqtdBfI",
        "outputId": "8672fda2-9332-4153-ddaf-c951d0c10f00"
      },
      "execution_count": null,
      "outputs": [
        {
          "output_type": "stream",
          "name": "stdout",
          "text": [
            "True\n"
          ]
        }
      ]
    },
    {
      "cell_type": "markdown",
      "source": [
        "In a list, in checks for the presence of a value, so it iterates through the list to find a match.\n",
        "In a dictionary, in checks for the presence of a key, which is much faster due to the dictionary's hash-based implementation.\n"
      ],
      "metadata": {
        "id": "lG6hYraKdr56"
      }
    },
    {
      "cell_type": "markdown",
      "source": [
        "**Question15. Can you modify the elements of a tuple? Explain why or why not?**"
      ],
      "metadata": {
        "id": "uqQIY8kLd1CJ"
      }
    },
    {
      "cell_type": "markdown",
      "source": [
        "######**Answer**. No, we cannot modify the elements of a tuple after it has been created. This is because tuples are immutable in Python, which means once a tuple is created, its contents cannot be changed.\n",
        "We cannot modify the elements of tuple because:\n",
        "1.\tImmutability:\n",
        "•\tA tuple is an immutable data structure, meaning its elements cannot be altered, \tadded, or removed after the tuple is created.\n",
        "•\tOnce you define a tuple, its size and elements are fixed. This ensures that the tuple's \tcontents remain unchanged throughout the program, providing more safety in \tsituations where you want to guarantee that data does not accidentally change.\n",
        "2.\tMemory Efficiency:\n",
        "•\tThe immutability of tuples allows them to be more memory efficient than lists. Because their contents cannot change, Python can optimize how it stores and accesses tuples, which can lead to performance improvements in certain situations.\n",
        "3.\tHashability:\n",
        "•\tImmutability is also what allows tuples to be used as keys in dictionaries or elements in sets. Since they cannot change, they can be safely hashed and used in these data structures.\n",
        "#####Tuples are immutable, meaning you cannot modify their elements once they are created. This immutability provides benefits such as safety, hashability, and memory efficiency. However, if the tuple contains mutable objects (like lists or dictionaries), those objects can still be modified.\n"
      ],
      "metadata": {
        "id": "sAVJSuVDd-HE"
      }
    },
    {
      "cell_type": "markdown",
      "source": [
        "**Question16. What is a nested dictionary, and give an example of its use case?**"
      ],
      "metadata": {
        "id": "JOOdWNgqeNm4"
      }
    },
    {
      "cell_type": "markdown",
      "source": [
        "#####**Answer**. A nested dictionary is a dictionary in Python where the values of some keys are themselves dictionaries. This allows you to create a hierarchical or multi-level structure for your data. Nested dictionaries are useful when you need to represent complex relationships or groupings within data, where each \"group\" itself contains further details.\n",
        "Nested dictionaries are useful when:\n",
        "  *\tYou need to represent structured data with multiple attributes.\n",
        "  *\tYou want to group related data together in a hierarchical format.\n",
        "  *\tYou need to model real-world entities (like students, employees, or products) with several properties or categories.\n",
        "\n",
        "* Use Case of Nested Dictionaries:\n",
        "One common use case for nested dictionaries is to store student records in a school system, where each student has multiple attributes such as their grades, address, and contact information.\n",
        "* Example:\n"
      ],
      "metadata": {
        "id": "WxvrNXdHeRKz"
      }
    },
    {
      "cell_type": "code",
      "source": [
        "students = {\"S12345\": {\"name\": \"Shubham Agrawal\", \"age\": 32,\"grades\":\n",
        "                       {\"math\": 90,\"science\": 85,\"english\": 88},\n",
        "                       \"address\": {\"street\": \"123 Ground Floor\", \"city\":\n",
        "                                   \"Mathura\", \"state\": \"Uttar Pradesh\"}},\n",
        "           \t\t         \"S67890\": {\"name\": \"Rahul Gupta\", \"age\": 28,\"grades\":\n",
        "                                 {\"math\":92,\"science\": 89,\"english\": 91},\n",
        "                                 \"address\": {\"street\": \"456 Taj Mahal\",\"city\":\n",
        "                                             \"Agra\",\"state\": \"Uttar Pradesh\"}}}\n"
      ],
      "metadata": {
        "id": "sVNw_rhjdnzD"
      },
      "execution_count": null,
      "outputs": []
    },
    {
      "cell_type": "markdown",
      "source": [
        "Here:\n",
        "* The outer dictionary has student IDs (like \"S12345\", \"S67890\") as keys.\n",
        "* Each student ID maps to a dictionary with:\n",
        "    * The student's name and age.\n",
        "    * A nested dictionary for grades, which contains the subject and the corresponding score.\n",
        "    * A nested dictionary for the address, which contains the street, city, and state.\n",
        "\n"
      ],
      "metadata": {
        "id": "jduXI7RIfYas"
      }
    },
    {
      "cell_type": "markdown",
      "source": [
        "To access data in a nested dictionary, you chain the keys:\n",
        "* Example: Accessing a Student's Math Grade"
      ],
      "metadata": {
        "id": "z-cuqqkWftX4"
      }
    },
    {
      "cell_type": "code",
      "source": [
        "# Accessing Shubham math grade\n",
        "Shubham_math_grade = students[\"S12345\"][\"grades\"][\"math\"]\n",
        "print(Shubham_math_grade)\n",
        "# Accessing Rahul city\n",
        "Rahul_city = students[\"S67890\"][\"address\"][\"city\"]\n",
        "print(Rahul_city)\n"
      ],
      "metadata": {
        "colab": {
          "base_uri": "https://localhost:8080/"
        },
        "id": "b5x8-_OTfQkB",
        "outputId": "248f949f-7db9-4415-c4ba-2fb7870461b9"
      },
      "execution_count": null,
      "outputs": [
        {
          "output_type": "stream",
          "name": "stdout",
          "text": [
            "90\n",
            "Agra\n"
          ]
        }
      ]
    },
    {
      "cell_type": "markdown",
      "source": [
        "**Question17. Describe the time complexity of accessing elements in a dictionary.**"
      ],
      "metadata": {
        "id": "bzhKluiPgW_L"
      }
    },
    {
      "cell_type": "markdown",
      "source": [
        "**Answer**. In Python, dictionaries are implemented using hash tables, which allows for very efficient lookups. When you access an element in a dictionary using a key, the operation generally has a constant time complexity."
      ],
      "metadata": {
        "id": "LHVwbSm7Mshx"
      }
    },
    {
      "cell_type": "markdown",
      "source": [
        "Time Complexity of Accessing Elements in a Dictionary:\n",
        "* Average Case (Best Case): The time complexity for accessing an element in a dictionary by key is O(1) (constant time). This means that the time it takes to look up a value does not depend on the size of the dictionary. Whether the dictionary contains 10 or 10 million elements, the time to look up a key is constant on average.\n",
        "*\tWorst Case: In rare cases, the time complexity for accessing an element can be O(n) (linear time), where n is the number of elements in the dictionary. This happens if there are many hash collisions (i.e., when different keys get mapped to the same hash bucket). Python handles this by using a technique called open addressing to resolve collisions, but if too many collisions occur, it could degrade performance.\n"
      ],
      "metadata": {
        "id": "3ux3oOYsM4m1"
      }
    },
    {
      "cell_type": "markdown",
      "source": [
        "Explanation\n",
        "*  The time complexity of dictionary operations depends on the size of the dictionary and the specific operation being performed.\n",
        "*  Python uses a hashing system to automatically look for a key in the dictionary's \"shelf\" of keys.\n",
        "*  Hash collisions in dictionaries can degrade O(1) operations to O(n).\n",
        "*  The worst-case complexity arises when all elements are in a single hash bucket.                                                             \n",
        "Despite the worst-case scenario, dictionary lookups are generally very fast in practice and typically take constant time on average.\n"
      ],
      "metadata": {
        "id": "9AFYzZlQNWvp"
      }
    },
    {
      "cell_type": "markdown",
      "source": [
        "**Question18. In what situations are lists preferred over dictionaries?**"
      ],
      "metadata": {
        "id": "y0XivBFLNqD9"
      }
    },
    {
      "cell_type": "markdown",
      "source": [
        "**Answer**. While dictionaries offer fast lookups and efficient storage for key-value pairs, there are situations where lists are preferred over dictionaries due to their simplicity and structure."
      ],
      "metadata": {
        "id": "ATWJrtkNNwYV"
      }
    },
    {
      "cell_type": "markdown",
      "source": [
        "Lists are preferred over dictionaries in situations where:\n",
        "1.\tOrdered Data: When the order of elements matters, such as when you need to maintain a specific sequence or list of items. Since lists preserve insertion order, they are a good fit when you need to store and retrieve items in the same order they were added.\n",
        "2.\tIndex-Based Access: If you need to access elements by a numeric index (e.g., position in the list) rather than by a key. Lists are optimized for accessing items by index.\n",
        "3.\tSimple Data: When the data consists of homogeneous items (e.g., all integers, all strings) or items that don't need a unique identifier. A list is simpler and more efficient when the data doesn’t require the extra structure of key-value pairs.\n",
        "4.\tIteration and Processing: When you need to process or iterate through all elements in a collection without concern for associating each element with a unique key. Lists are more straightforward to loop through than dictionaries.\n",
        "5.\tPerformance in Simple Operations: Lists are often more memory-efficient and faster for certain operations like appending or iterating through small datasets. Dictionaries introduce some overhead because of their key-value pairing.\n",
        "6.\tWhen you don’t need uniqueness: In lists, duplicate elements are allowed, so if you need to store multiple occurrences of the same item, a list is better suited.\n",
        "7.\tFixed Number of Elements: Lists are great when the size of the collection is known ahead of time or doesn't change dynamically, such as storing a fixed set of items.\n"
      ],
      "metadata": {
        "id": "OCZxV0KzN0v_"
      }
    },
    {
      "cell_type": "markdown",
      "source": [
        "**Question19. Why are dictionaries considered unordered, and how does that affect data retrieval?**"
      ],
      "metadata": {
        "id": "tAPuGpvZN5P_"
      }
    },
    {
      "cell_type": "markdown",
      "source": [
        "**Answer**. Dictionaries are considered unordered because, in traditional Python dictionaries (prior to Python 3.7), the order of key-value pairs was not guaranteed. This means that when you inserted items into a dictionary, there was no specific sequence in which they would be stored internally. The focus of dictionaries is on efficient lookups by keys rather than maintaining the order of the elements."
      ],
      "metadata": {
        "id": "8RH-ACOfN894"
      }
    },
    {
      "cell_type": "markdown",
      "source": [
        "Dictionaries are considered unordered due to:\n",
        "*  Hashing Mechanism: Dictionaries use a hashing mechanism for storing key-value pairs. Each key is hashed into a unique index, and the key-value pair is stored at that position in memory. This hashing process doesn’t depend on the order of insertion, but rather on the hash value of the keys. As a result, the internal order of items can change as new items are added or removed.\n",
        "*  Efficiency Focus: The main design goal of a dictionary is to offer fast lookups (average O(1) time complexity for accessing values by their keys). To achieve this, dictionaries optimize for quick access by hash value, not for the order in which items are added. This makes dictionaries highly efficient for searching for specific keys but less focused on maintaining the insertion order.\n"
      ],
      "metadata": {
        "id": "FvF0KwT8OBGZ"
      }
    },
    {
      "cell_type": "markdown",
      "source": [
        "Dictionaries are unordered this affect data retrieval due to:\n",
        "1.\tKey-based Access: Data retrieval in dictionaries is based on keys, not order. You retrieve a value by referencing its associated key, and you don’t need to worry about the position or the order in which items were inserted.\n",
        "2.\tNo Sequential Access: Unlike lists, dictionaries do not support sequential access via index . Instead, you must explicitly reference the key. So, if you want to iterate through the dictionary, you must either access the keys explicitly or loop through them.\n"
      ],
      "metadata": {
        "id": "hio6CW0hOHJV"
      }
    },
    {
      "cell_type": "markdown",
      "source": [
        "**Question20. Explain the difference between a list and a dictionary in terms of data retrieval.**"
      ],
      "metadata": {
        "id": "vxIKgEO6ONQK"
      }
    },
    {
      "cell_type": "markdown",
      "source": [
        "**Answer**. The key difference between a list and a dictionary in terms of data retrieval lies in how you access and identify the data:\n",
        "1.\tData Access Method\n",
        "    * List: Lists are index-based, meaning data retrieval is done by referring to the index\t(position) of an item in the list.\n",
        "\t\tEach item in a list is assigned an index, starting from 0, and you can access \t\t\tany element by its index.\n",
        "    * Dictionary: Dictionaries are key-based, meaning data retrieval is done using a key, not an index.\n",
        "    Each element in a dictionary is stored as a key-value pair, where the key is used to access its associated value.\n",
        "2.\tAccess Speed\n",
        "  *  List: Lists offer fast retrieval for items by index (O(1) time complexity for accessing an element if you know its index).\n",
        "  *\tDictionary: Dictionaries are optimized for fast key-based retrieval (O(1) time complexity on average, using a hash table for quick lookups).\n",
        "3.\tData Structure and Use Case\n",
        "  *\tList: A list is best used when the order of items matters, and you need to access them by position (index).\n",
        "       * Lists are ideal for cases where you need to maintain a sequence of items, iterate over them, or perform operations that don’t require a direct key-value relationship.\n",
        "       * Lists can store duplicate values, and indexing allows for sequential access.\n",
        " *\tDictionary: A dictionary is best used when you need to store key-value pairs and access data using a unique key.\n",
        "      * Dictionaries are ideal for situations where you need fast lookups based on a specific identifier (key), like searching for a student’s grade by their ID number.\n",
        "      * Keys must be unique within a dictionary, and you cannot have duplicate keys (although values can be duplicated).\n",
        "4.\tOrder Preservation\n",
        "  *\tList: Lists maintain the order of items in the order they are added. If you need to retrieve data in a specific sequence, a list is a natural choice.\n",
        "  * Dictionary: Prior to Python 3.7, dictionaries did not maintain insertion order (though they still allowed key-based access). Starting with Python 3.7, dictionaries do preserve insertion order. However, order is not a defining feature of a dictionary, and the main purpose is to allow fast access by key, not by order.\n",
        "5.\tMemory and Storage Efficiency\n",
        "  *\tList: Lists are generally more memory-efficient when storing simple collections of homogeneous data (e.g., all integers or strings).\n",
        "Since items are indexed, they don’t need the extra memory overhead associated with keys in a dictionary.\n",
        "  * Dictionary: Dictionaries have more memory overhead because they store both keys and values and use a hash table to maintain fast access.\n"
      ],
      "metadata": {
        "id": "49yRU4FuOXR-"
      }
    },
    {
      "cell_type": "markdown",
      "source": [
        "This can make them less memory-efficient for simple data storage, but they are more efficient for situations where key-value pairing is necessary.\n",
        "\n"
      ],
      "metadata": {
        "id": "Cjah2XeAPuA4"
      }
    },
    {
      "cell_type": "markdown",
      "source": [
        "Conclusion:\n",
        "* List: Best when you need ordered collections of items that you’ll access by index (position). Lists excel in storing sequential data and when the order of elements matters. However, retrieving data by value or key is not as efficient as dictionaries.\n",
        "* Dictionary: Best when you need to store key-value pairs and retrieve values based on a unique key. Dictionaries offer fast lookups (O(1) time complexity) and are ideal for scenarios where quick access to data is required based on a unique identifier (the key)."
      ],
      "metadata": {
        "id": "RcMrEEJ0P0xo"
      }
    },
    {
      "cell_type": "markdown",
      "source": [
        " # PRACTICAL QUESTIONS ANSWERS"
      ],
      "metadata": {
        "id": "GHGxTRYgP6Dl"
      }
    },
    {
      "cell_type": "markdown",
      "source": [
        "**Question1. Write a code to create a string with your name and print it.**"
      ],
      "metadata": {
        "id": "f2bPu14yQZEs"
      }
    },
    {
      "cell_type": "code",
      "source": [
        "name = \"Shubham Agrawal\"\n",
        "print (name, type(name))\n"
      ],
      "metadata": {
        "id": "69vyHzqNf2nL",
        "colab": {
          "base_uri": "https://localhost:8080/"
        },
        "outputId": "98179ef1-8d8d-4767-f708-8fc5e630b962"
      },
      "execution_count": 1,
      "outputs": [
        {
          "output_type": "stream",
          "name": "stdout",
          "text": [
            "Shubham Agrawal <class 'str'>\n"
          ]
        }
      ]
    },
    {
      "cell_type": "markdown",
      "source": [
        "**Question2. Write a code to find the length of the string \"Hello World\".**"
      ],
      "metadata": {
        "id": "RArLSiYmQkx9"
      }
    },
    {
      "cell_type": "code",
      "source": [
        "name = \"Hello world\"\n",
        "length = len(name)\n",
        "print(length)\n"
      ],
      "metadata": {
        "colab": {
          "base_uri": "https://localhost:8080/"
        },
        "id": "l2DVFD-UQd4h",
        "outputId": "8e4a48de-2214-422b-8162-f2b7b36f125d"
      },
      "execution_count": 2,
      "outputs": [
        {
          "output_type": "stream",
          "name": "stdout",
          "text": [
            "11\n"
          ]
        }
      ]
    },
    {
      "cell_type": "markdown",
      "source": [
        "**Question3. Write a code to slice the first 3 characters from the string \"Python Programming\".**"
      ],
      "metadata": {
        "id": "tcm8Ku8DQq5b"
      }
    },
    {
      "cell_type": "code",
      "source": [
        "name = \"Python Programming\"\n",
        "name [:3]\n"
      ],
      "metadata": {
        "colab": {
          "base_uri": "https://localhost:8080/",
          "height": 36
        },
        "id": "k41OBvcNQpwi",
        "outputId": "90f6abec-6299-43cd-aa9a-f97f588c0a65"
      },
      "execution_count": 3,
      "outputs": [
        {
          "output_type": "execute_result",
          "data": {
            "text/plain": [
              "'Pyt'"
            ],
            "application/vnd.google.colaboratory.intrinsic+json": {
              "type": "string"
            }
          },
          "metadata": {},
          "execution_count": 3
        }
      ]
    },
    {
      "cell_type": "markdown",
      "source": [
        "**Question4. Write a code to convert the string \"hello\" to uppercase.**"
      ],
      "metadata": {
        "id": "B0_gR5FqQ2Lx"
      }
    },
    {
      "cell_type": "code",
      "source": [
        "name = \"hello\"\n",
        "name.upper()\n"
      ],
      "metadata": {
        "colab": {
          "base_uri": "https://localhost:8080/",
          "height": 36
        },
        "id": "oh-W27-PQy-D",
        "outputId": "971c6393-21e3-49d0-d999-1024840b00ec"
      },
      "execution_count": 4,
      "outputs": [
        {
          "output_type": "execute_result",
          "data": {
            "text/plain": [
              "'HELLO'"
            ],
            "application/vnd.google.colaboratory.intrinsic+json": {
              "type": "string"
            }
          },
          "metadata": {},
          "execution_count": 4
        }
      ]
    },
    {
      "cell_type": "markdown",
      "source": [
        "**Question5. Write a code to replace the word \"apple\" with \"orange\" in the string \"I like apple\".**"
      ],
      "metadata": {
        "id": "pXfapDUkQ8H9"
      }
    },
    {
      "cell_type": "code",
      "source": [
        "sentence = \"I like apple\"\n",
        "sentence.replace(\"apple\", \"orange\")\n"
      ],
      "metadata": {
        "colab": {
          "base_uri": "https://localhost:8080/",
          "height": 36
        },
        "id": "DtNNdWcLQ6Ti",
        "outputId": "bedb85fd-a92f-408b-efcb-19d29773f6f8"
      },
      "execution_count": 5,
      "outputs": [
        {
          "output_type": "execute_result",
          "data": {
            "text/plain": [
              "'I like orange'"
            ],
            "application/vnd.google.colaboratory.intrinsic+json": {
              "type": "string"
            }
          },
          "metadata": {},
          "execution_count": 5
        }
      ]
    },
    {
      "cell_type": "markdown",
      "source": [
        "**Question6. Write a code to create a list with numbers 1 to 5 and print it.**"
      ],
      "metadata": {
        "id": "tf0_Gp2oRCGt"
      }
    },
    {
      "cell_type": "code",
      "source": [
        "number = [1,2,3,4,5]\n",
        "print(number, type(number))\n"
      ],
      "metadata": {
        "colab": {
          "base_uri": "https://localhost:8080/"
        },
        "id": "JWeI2oC4Q_2Y",
        "outputId": "0191ba01-9c40-4c0f-eb88-67d563b47cd9"
      },
      "execution_count": 6,
      "outputs": [
        {
          "output_type": "stream",
          "name": "stdout",
          "text": [
            "[1, 2, 3, 4, 5] <class 'list'>\n"
          ]
        }
      ]
    },
    {
      "cell_type": "markdown",
      "source": [
        "**Question7. Write a code to append the number 10 to the list 1, 2, 3, 4]**."
      ],
      "metadata": {
        "id": "bAJgkMeURIJq"
      }
    },
    {
      "cell_type": "code",
      "source": [
        "number = [1,2,3,4]\n",
        "number.append(10)\n",
        "number\n"
      ],
      "metadata": {
        "colab": {
          "base_uri": "https://localhost:8080/"
        },
        "id": "dqMJsHvIRGPg",
        "outputId": "de7c0c59-23ee-4f8a-b295-49f38b611b43"
      },
      "execution_count": 7,
      "outputs": [
        {
          "output_type": "execute_result",
          "data": {
            "text/plain": [
              "[1, 2, 3, 4, 10]"
            ]
          },
          "metadata": {},
          "execution_count": 7
        }
      ]
    },
    {
      "cell_type": "markdown",
      "source": [
        "**Question8. Write a code to remove the number 3 from the list 1, 2, 3, 4, 5].**"
      ],
      "metadata": {
        "id": "O5t8RmYsRU9E"
      }
    },
    {
      "cell_type": "code",
      "source": [
        "list = [1,2,3,4,5]\n",
        "list.remove(3)\n",
        "list\n"
      ],
      "metadata": {
        "colab": {
          "base_uri": "https://localhost:8080/"
        },
        "id": "PfrcLSXNRSv9",
        "outputId": "ea56716a-3147-45ec-d55b-64913d245b47"
      },
      "execution_count": 8,
      "outputs": [
        {
          "output_type": "execute_result",
          "data": {
            "text/plain": [
              "[1, 2, 4, 5]"
            ]
          },
          "metadata": {},
          "execution_count": 8
        }
      ]
    },
    {
      "cell_type": "markdown",
      "source": [
        "**Question9. Write a code to access the second element in the list ['a', 'b', 'c', 'd’]**"
      ],
      "metadata": {
        "id": "gzEsA1jqReDZ"
      }
    },
    {
      "cell_type": "code",
      "source": [
        "list = [\"a\", \"b\", \"c\", \"d\"]\n",
        "list[1]\n"
      ],
      "metadata": {
        "colab": {
          "base_uri": "https://localhost:8080/",
          "height": 36
        },
        "id": "CYfRfDavRcBk",
        "outputId": "23d7c3a0-812a-4bf2-99fd-69b4821939b7"
      },
      "execution_count": 9,
      "outputs": [
        {
          "output_type": "execute_result",
          "data": {
            "text/plain": [
              "'b'"
            ],
            "application/vnd.google.colaboratory.intrinsic+json": {
              "type": "string"
            }
          },
          "metadata": {},
          "execution_count": 9
        }
      ]
    },
    {
      "cell_type": "markdown",
      "source": [
        "**Question10. Write a code to reverse the list [10, 20, 30, 40, 50].**"
      ],
      "metadata": {
        "id": "q0X_9DI6RlFl"
      }
    },
    {
      "cell_type": "code",
      "source": [
        "number = [10,20,30,40,50]\n",
        "number.reverse()\n",
        "print(number)\n"
      ],
      "metadata": {
        "colab": {
          "base_uri": "https://localhost:8080/"
        },
        "id": "SkkpufEZRirk",
        "outputId": "215e7390-0744-4d00-9fe0-ee9f9b68f6e5"
      },
      "execution_count": 10,
      "outputs": [
        {
          "output_type": "stream",
          "name": "stdout",
          "text": [
            "[50, 40, 30, 20, 10]\n"
          ]
        }
      ]
    },
    {
      "cell_type": "markdown",
      "source": [
        "**Question11. Write a code to create a tuple with the elements 100, 200, 300 and print it.**"
      ],
      "metadata": {
        "id": "-VgpBaiLRt8B"
      }
    },
    {
      "cell_type": "code",
      "source": [
        "tuple = (100, 200, 300)\n",
        "print (tuple , type(tuple))\n"
      ],
      "metadata": {
        "colab": {
          "base_uri": "https://localhost:8080/"
        },
        "id": "fPPbi_bPRsMF",
        "outputId": "f19b533e-b403-4065-9d32-eac619d04277"
      },
      "execution_count": 11,
      "outputs": [
        {
          "output_type": "stream",
          "name": "stdout",
          "text": [
            "(100, 200, 300) <class 'tuple'>\n"
          ]
        }
      ]
    },
    {
      "cell_type": "markdown",
      "source": [
        "**Question12. Write a code to access the second—to—last element of the tuple ('red', 'green', 'blue', 'yellow’).**"
      ],
      "metadata": {
        "id": "h7MXMwmZR13P"
      }
    },
    {
      "cell_type": "code",
      "source": [
        "name = (\"red\", \"green\", \"blue\", \"yellow\")\n",
        "name[-2]\n"
      ],
      "metadata": {
        "colab": {
          "base_uri": "https://localhost:8080/",
          "height": 36
        },
        "id": "QLZFkB13R0BH",
        "outputId": "a6eb72ec-a25f-43d9-cf82-56cee74f26af"
      },
      "execution_count": 12,
      "outputs": [
        {
          "output_type": "execute_result",
          "data": {
            "text/plain": [
              "'blue'"
            ],
            "application/vnd.google.colaboratory.intrinsic+json": {
              "type": "string"
            }
          },
          "metadata": {},
          "execution_count": 12
        }
      ]
    },
    {
      "cell_type": "markdown",
      "source": [
        "**Question13. Write a code to find the minimum number in the tuple (10, 20, 5, 15).**"
      ],
      "metadata": {
        "id": "CAuMgOmDR73I"
      }
    },
    {
      "cell_type": "code",
      "source": [
        "number = (10,20,5,15)\n",
        "min(number)\n"
      ],
      "metadata": {
        "colab": {
          "base_uri": "https://localhost:8080/"
        },
        "id": "4k4u-0EJR54h",
        "outputId": "32b012d2-ebb5-454b-fd5e-e15a26dd4fdb"
      },
      "execution_count": 13,
      "outputs": [
        {
          "output_type": "execute_result",
          "data": {
            "text/plain": [
              "5"
            ]
          },
          "metadata": {},
          "execution_count": 13
        }
      ]
    },
    {
      "cell_type": "markdown",
      "source": [
        "**Question14. Write a code to find the index of the element \"cat\" in the tuple ('dog', 'cat', 'rabbit').**"
      ],
      "metadata": {
        "id": "aDV6wP-RSF6n"
      }
    },
    {
      "cell_type": "code",
      "source": [
        "name = (\"dog\", \"cat\", \"rabbit\")\n",
        "name.index(\"cat\")\n"
      ],
      "metadata": {
        "colab": {
          "base_uri": "https://localhost:8080/"
        },
        "id": "WjwAJBVPR_h8",
        "outputId": "2b9e502d-5b42-4fbc-c761-acfd7eb7b5be"
      },
      "execution_count": 14,
      "outputs": [
        {
          "output_type": "execute_result",
          "data": {
            "text/plain": [
              "1"
            ]
          },
          "metadata": {},
          "execution_count": 14
        }
      ]
    },
    {
      "cell_type": "markdown",
      "source": [
        "**Question15. Write a code to create a tuple containing three different fruits and check if \"kiwi\" is in it.**"
      ],
      "metadata": {
        "id": "uE27KZqjSMh4"
      }
    },
    {
      "cell_type": "code",
      "source": [
        "fruits_name = (\"Apple\", \"Orange\", \"kiwi\")\n",
        "\"kiwi\" in fruits_name\n"
      ],
      "metadata": {
        "colab": {
          "base_uri": "https://localhost:8080/"
        },
        "id": "MtmjyT34SJ-_",
        "outputId": "62c206e2-f231-4ad6-e71a-20e3d3151b87"
      },
      "execution_count": 15,
      "outputs": [
        {
          "output_type": "execute_result",
          "data": {
            "text/plain": [
              "True"
            ]
          },
          "metadata": {},
          "execution_count": 15
        }
      ]
    },
    {
      "cell_type": "markdown",
      "source": [
        "**Question16. Write a code to create a set with the elements 'a', 'b', 'c' and print it.**"
      ],
      "metadata": {
        "id": "IGHsoGKESSge"
      }
    },
    {
      "cell_type": "code",
      "source": [
        "name = {\"a\", \"b\", \"c\"}\n",
        "print (name, type(name))\n"
      ],
      "metadata": {
        "colab": {
          "base_uri": "https://localhost:8080/"
        },
        "id": "i2uf9M_wSQJW",
        "outputId": "ea6fa179-a254-4402-f3f3-795f2f9e5594"
      },
      "execution_count": 16,
      "outputs": [
        {
          "output_type": "stream",
          "name": "stdout",
          "text": [
            "{'b', 'a', 'c'} <class 'set'>\n"
          ]
        }
      ]
    },
    {
      "cell_type": "markdown",
      "source": [
        "**Question17. Write a code to clear all elements from the set (1, 2, 3, 4, 5).**"
      ],
      "metadata": {
        "id": "cR-AIVQpScq5"
      }
    },
    {
      "cell_type": "code",
      "source": [
        "number = {1,2,3,4,5}\n",
        "number.clear()\n",
        "number\n"
      ],
      "metadata": {
        "colab": {
          "base_uri": "https://localhost:8080/"
        },
        "id": "ZLZIPwiFSa3G",
        "outputId": "13f0c5e4-2036-4713-db11-26469be197cf"
      },
      "execution_count": 17,
      "outputs": [
        {
          "output_type": "execute_result",
          "data": {
            "text/plain": [
              "set()"
            ]
          },
          "metadata": {},
          "execution_count": 17
        }
      ]
    },
    {
      "cell_type": "markdown",
      "source": [
        "**Question18. Write a code to remove the element 4 from the set (1, 2, 3, 4).**"
      ],
      "metadata": {
        "id": "GTguvNMOSjWe"
      }
    },
    {
      "cell_type": "code",
      "source": [
        "number = {1,2,3,4}\n",
        "number.remove(4)\n",
        "print(number)\n"
      ],
      "metadata": {
        "colab": {
          "base_uri": "https://localhost:8080/"
        },
        "id": "QQL5gYufShDS",
        "outputId": "93456cdd-076f-4622-8e01-a99a5dba6974"
      },
      "execution_count": 18,
      "outputs": [
        {
          "output_type": "stream",
          "name": "stdout",
          "text": [
            "{1, 2, 3}\n"
          ]
        }
      ]
    },
    {
      "cell_type": "markdown",
      "source": [
        "**Question19. Write a code to find the union of two sets (1, 2, 3) and (3, 4, 5).**"
      ],
      "metadata": {
        "id": "OTujFp9ZSqWO"
      }
    },
    {
      "cell_type": "code",
      "source": [
        "fruits1 = {\"Apple\", \"Banana\", \"Orange\"}\n",
        "fruits2 = {\"Mango\", \"Kiwi\", \"Grapes\"}\n",
        "fruits1|fruits2\n"
      ],
      "metadata": {
        "colab": {
          "base_uri": "https://localhost:8080/"
        },
        "id": "x3bbm-r6Snxr",
        "outputId": "fdcdd16d-3e46-40ca-ccbe-9372ec60ce6d"
      },
      "execution_count": 19,
      "outputs": [
        {
          "output_type": "execute_result",
          "data": {
            "text/plain": [
              "{'Apple', 'Banana', 'Grapes', 'Kiwi', 'Mango', 'Orange'}"
            ]
          },
          "metadata": {},
          "execution_count": 19
        }
      ]
    },
    {
      "cell_type": "markdown",
      "source": [
        "**Question20. Write a code to find the intersection of two sets (1, 2, 3) and (2, 3, 4).**"
      ],
      "metadata": {
        "id": "o_fQf0cgSwd7"
      }
    },
    {
      "cell_type": "code",
      "source": [
        "fruits1 = {\"Apple\", \"Grapes\", \"Orange\"}\n",
        "fruits2 = {\"Mango\", \"Kiwi\", \"Grapes\"}\n",
        "fruits1&fruits2\n"
      ],
      "metadata": {
        "colab": {
          "base_uri": "https://localhost:8080/"
        },
        "id": "nuyVCRqESuy3",
        "outputId": "394be990-2568-426c-a2d0-d2a6b08fa286"
      },
      "execution_count": 20,
      "outputs": [
        {
          "output_type": "execute_result",
          "data": {
            "text/plain": [
              "{'Grapes'}"
            ]
          },
          "metadata": {},
          "execution_count": 20
        }
      ]
    },
    {
      "cell_type": "markdown",
      "source": [
        "**Question21. Write a code to create a dictionary with the keys \"name\", \"age\", and \"city\", and print it.**"
      ],
      "metadata": {
        "id": "u-b6avTES4TY"
      }
    },
    {
      "cell_type": "code",
      "source": [
        "dict = {\"name\" : \"Shubham\",\"Age\": 31, \"City\": \"Mathura\"}\n",
        "print(dict)\n"
      ],
      "metadata": {
        "colab": {
          "base_uri": "https://localhost:8080/"
        },
        "id": "R_Psa1DnS0yn",
        "outputId": "dee5e357-77c9-4895-f306-86f768654a26"
      },
      "execution_count": 21,
      "outputs": [
        {
          "output_type": "stream",
          "name": "stdout",
          "text": [
            "{'name': 'Shubham', 'Age': 31, 'City': 'Mathura'}\n"
          ]
        }
      ]
    },
    {
      "cell_type": "markdown",
      "source": [
        "**Question22. Write a code to add a new key-value pair \"country\": \"USA\" to the dictionary ('name': 'John', 'age': 25).**"
      ],
      "metadata": {
        "id": "TCvOhLMXS9p-"
      }
    },
    {
      "cell_type": "code",
      "source": [
        "dict = {\"name\": \"John\", \"age\": 25}\n",
        "dict[\"country\"] = \"USA\"\n",
        "dict\n"
      ],
      "metadata": {
        "colab": {
          "base_uri": "https://localhost:8080/"
        },
        "id": "XyGQr6LsS718",
        "outputId": "80e72794-cdb5-4fdd-dce6-7f88ec4fc249"
      },
      "execution_count": 22,
      "outputs": [
        {
          "output_type": "execute_result",
          "data": {
            "text/plain": [
              "{'name': 'John', 'age': 25, 'country': 'USA'}"
            ]
          },
          "metadata": {},
          "execution_count": 22
        }
      ]
    },
    {
      "cell_type": "markdown",
      "source": [
        "**Question23. Write a code to access the value associated with the key \"name\" in the dictionary ('name’: 'Alice', 'age': 30).**"
      ],
      "metadata": {
        "id": "AbF5wFYkTEWb"
      }
    },
    {
      "cell_type": "code",
      "source": [
        "dict = {\"name\" : \"Alice\", \"age\": 30}\n",
        "dict [\"name\"]\n"
      ],
      "metadata": {
        "colab": {
          "base_uri": "https://localhost:8080/",
          "height": 36
        },
        "id": "kaiDY1ASTCbT",
        "outputId": "0df08125-0a5f-48df-b282-64a64bd089e4"
      },
      "execution_count": 24,
      "outputs": [
        {
          "output_type": "execute_result",
          "data": {
            "text/plain": [
              "'Alice'"
            ],
            "application/vnd.google.colaboratory.intrinsic+json": {
              "type": "string"
            }
          },
          "metadata": {},
          "execution_count": 24
        }
      ]
    },
    {
      "cell_type": "markdown",
      "source": [
        "**Question24. Write a code to remove the key \"age\" from the dictionary (’name’: 'Bob', 'age': 22, 'city': ’New York’).**"
      ],
      "metadata": {
        "id": "npOwWHYpTNxt"
      }
    },
    {
      "cell_type": "code",
      "source": [
        "dict = {\"name\": \"Bob\", \"age\": 22, \"city\": \"New York\"}\n",
        "del dict [\"age\"]\n",
        "dict\n"
      ],
      "metadata": {
        "colab": {
          "base_uri": "https://localhost:8080/"
        },
        "id": "ktm6hWUQTJGF",
        "outputId": "59545145-df98-4a52-8514-7ad1d2f8fc41"
      },
      "execution_count": 25,
      "outputs": [
        {
          "output_type": "execute_result",
          "data": {
            "text/plain": [
              "{'name': 'Bob', 'city': 'New York'}"
            ]
          },
          "metadata": {},
          "execution_count": 25
        }
      ]
    },
    {
      "cell_type": "markdown",
      "source": [
        "**Question25. Write a code to check if the key \"city\" exists in the dictionary ('name': 'Alice', 'city': 'Paris'}.**"
      ],
      "metadata": {
        "id": "nPVOIGT1TV30"
      }
    },
    {
      "cell_type": "code",
      "source": [
        "my_dict = {\"name\": \"Alice\", \"city\": \"Paris\"}\n",
        "\"city\" in my_dict\n"
      ],
      "metadata": {
        "colab": {
          "base_uri": "https://localhost:8080/"
        },
        "id": "3dxgiFm5TSZZ",
        "outputId": "611d6a3b-2ae6-4cd9-cd1b-25c1fee86e67"
      },
      "execution_count": 26,
      "outputs": [
        {
          "output_type": "execute_result",
          "data": {
            "text/plain": [
              "True"
            ]
          },
          "metadata": {},
          "execution_count": 26
        }
      ]
    },
    {
      "cell_type": "markdown",
      "source": [
        "**Question26. Write a code to create a list, a tuple, and a dictionary, and print them all.**"
      ],
      "metadata": {
        "id": "KK40U0tNTcG-"
      }
    },
    {
      "cell_type": "code",
      "source": [
        "my_list = [100, 250, \"Shubham\", True]\n",
        "my_tuple = (\"red\",\"green\",\"blue\")\n",
        "my_dict = {\"name\": \"Shubham\", \"city\": \"Mathura\"}\n",
        "print(my_list, my_tuple, my_dict)\n"
      ],
      "metadata": {
        "colab": {
          "base_uri": "https://localhost:8080/"
        },
        "id": "hsHv5LgMTZ0r",
        "outputId": "f3335cec-f971-47a7-9e39-900206610b96"
      },
      "execution_count": 27,
      "outputs": [
        {
          "output_type": "stream",
          "name": "stdout",
          "text": [
            "[100, 250, 'Shubham', True] ('red', 'green', 'blue') {'name': 'Shubham', 'city': 'Mathura'}\n"
          ]
        }
      ]
    },
    {
      "cell_type": "markdown",
      "source": [
        "**Question27. Write a code to create a list of 5 random numbers between 1 and\t100, sort it in ascending order, and print the result.(replaced)**"
      ],
      "metadata": {
        "id": "09qvPit1Tkei"
      }
    },
    {
      "cell_type": "code",
      "source": [
        "list = [12,61,34,89,45]\n",
        "list.sort()\n",
        "list\n"
      ],
      "metadata": {
        "colab": {
          "base_uri": "https://localhost:8080/"
        },
        "id": "gHGtWH_RThas",
        "outputId": "d91c1545-593f-4aba-c300-b9f7cf0137ec"
      },
      "execution_count": 28,
      "outputs": [
        {
          "output_type": "execute_result",
          "data": {
            "text/plain": [
              "[12, 34, 45, 61, 89]"
            ]
          },
          "metadata": {},
          "execution_count": 28
        }
      ]
    },
    {
      "cell_type": "markdown",
      "source": [
        "**Question28. Write a code to create a list with strings and print the element at the third index.**"
      ],
      "metadata": {
        "id": "cjsPyQmITsep"
      }
    },
    {
      "cell_type": "code",
      "source": [
        "list_name = [\"Ajay\", \"Bijay\", \"Rahul\", \"Shubham\"]\n",
        "print(list_name[3])\n"
      ],
      "metadata": {
        "colab": {
          "base_uri": "https://localhost:8080/"
        },
        "id": "mT5fV6seTqnH",
        "outputId": "0181dabb-5eae-48cd-9c18-26737884cfb5"
      },
      "execution_count": 29,
      "outputs": [
        {
          "output_type": "stream",
          "name": "stdout",
          "text": [
            "Shubham\n"
          ]
        }
      ]
    },
    {
      "cell_type": "markdown",
      "source": [
        "**Question29. Write a code to combine two dictionaries into one and print the result.**"
      ],
      "metadata": {
        "id": "1_ujXhPJTzfA"
      }
    },
    {
      "cell_type": "code",
      "source": [
        "dict1 = {\"Name\": \"Shubham\", \"Course\": \"Data Analytics\"}\n",
        "dict2 = {\"City\": \"Mathura\", \"Phone\" : 9999999999}\n",
        "dict1.update(dict2)\n",
        "print(dict1)\n"
      ],
      "metadata": {
        "colab": {
          "base_uri": "https://localhost:8080/"
        },
        "id": "pV5XAm7jTxC1",
        "outputId": "019b4550-5f9e-4ba1-c0f0-c16faabac7c7"
      },
      "execution_count": 30,
      "outputs": [
        {
          "output_type": "stream",
          "name": "stdout",
          "text": [
            "{'Name': 'Shubham', 'Course': 'Data Analytics', 'City': 'Mathura', 'Phone': 9999999999}\n"
          ]
        }
      ]
    },
    {
      "cell_type": "markdown",
      "source": [
        "**Question30. Write a code to convert a list of strings into a set.**"
      ],
      "metadata": {
        "id": "czWp_ODST86S"
      }
    },
    {
      "cell_type": "code",
      "source": [
        "list_name = [\"Ajay\", \"Bijay\", \"Rahul\", \"Shubham\"]\n",
        "my_set = set (list_name)\n",
        "print(my_set, type (my_set))\n"
      ],
      "metadata": {
        "colab": {
          "base_uri": "https://localhost:8080/"
        },
        "id": "YFg4V0ATT6SM",
        "outputId": "b8524d32-9ae6-419a-99b8-e9f5372506f0"
      },
      "execution_count": 31,
      "outputs": [
        {
          "output_type": "stream",
          "name": "stdout",
          "text": [
            "{'Shubham', 'Rahul', 'Bijay', 'Ajay'} <class 'set'>\n"
          ]
        }
      ]
    },
    {
      "cell_type": "code",
      "source": [],
      "metadata": {
        "id": "exdfC0z6UBRV"
      },
      "execution_count": null,
      "outputs": []
    }
  ]
}